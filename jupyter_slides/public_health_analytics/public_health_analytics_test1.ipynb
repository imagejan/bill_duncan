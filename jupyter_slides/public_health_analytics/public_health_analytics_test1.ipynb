{
 "cells": [
  {
   "cell_type": "code",
   "execution_count": 2,
   "metadata": {
    "slideshow": {
     "slide_type": "skip"
    }
   },
   "outputs": [],
   "source": [
    "from IPython.core.display import HTML\n",
    "def set_css_style(css_file_path):\n",
    "    \"\"\"\n",
    "    Read the custom CSS file and load it into Jupyter.\n",
    "    Pass the file path to the CSS file.\n",
    "    \"\"\"\n",
    "\n",
    "    styles = '<style>' + open(css_file_path, \"r\").read() + '</style>'\n",
    "    return HTML(styles)\n"
   ]
  },
  {
   "cell_type": "code",
   "execution_count": 3,
   "metadata": {
    "slideshow": {
     "slide_type": "skip"
    }
   },
   "outputs": [
    {
     "data": {
      "text/html": [
       "<style>h1 {\n",
       "\tcolor: red;\n",
       "}</style>"
      ],
      "text/plain": [
       "<IPython.core.display.HTML object>"
      ]
     },
     "execution_count": 3,
     "metadata": {},
     "output_type": "execute_result"
    }
   ],
   "source": [
    "set_css_style('test2.css')"
   ]
  },
  {
   "cell_type": "markdown",
   "metadata": {
    "slideshow": {
     "slide_type": "slide"
    }
   },
   "source": [
    "\n",
    "# **Population Health Analytics**\n",
    "\n",
    "## <u>CourseLearning Objectives</u>\n",
    "\n",
    "*   Upon completion of the course students will be able to:\n",
    "\n",
    "## 1\\. Understand the concepts related to healthcare data innovation, \"Big Data\" analytics, **descriptive** data analytics, and predictive data analytics.\n",
    "\n",
    "## 2\\. Apply critical thinking and technical skills to the use of data to inform clinical decisions.\n",
    "\n",
    "## 3\\. Understand current barriers in healthcare to improving quality, lowering cost, and advancing health outcomes.\n",
    "\n",
    "## 4\\. Understand value-based healthcare systems and the role of data in promoting improved outcomes."
   ]
  },
  {
   "cell_type": "markdown",
   "metadata": {
    "slideshow": {
     "slide_type": "slide"
    }
   },
   "source": [
    "# **Population Health Analytics**\n",
    "\n",
    "## <u>CourseLearning Objectives,</u> cont’d.\n",
    "\n",
    "## 5\\. Analyze the impact of costs on the health of populations as it relates to value-based care.\n",
    "\n",
    "## 6\\. Import data from an electronic health record (EHR) into a data warehouse and use analytic tools to download/extract, clean, and perform descriptive analyses on a healthcare dataset.\n",
    "\n",
    "## 7\\. Understand patterns and trends in large-scale data sets.\n",
    "\n",
    "## 8\\. Use GIS tools to understand the distribution of disease and health outcomes in a selected population.\n",
    "\n",
    "## 9\\. Apply analytics to achieve quality improvement outcomes with regard to chronic diseases, population health, and public health.\n"
   ]
  },
  {
   "cell_type": "markdown",
   "metadata": {
    "slideshow": {
     "slide_type": "slide"
    }
   },
   "source": [
    "# **Population Health; a Definition**\n",
    "\n",
    "*   As interpreted by David Kindig, Population Health is:\n",
    "\n",
    "*   An effort to understand the factors that define the health of populations (Evans, et al.,1994)\n",
    "*   The non-clinical underlying forces that form the underlying premise upon which the health of populations is based (Frank, J., DATE)\n",
    "\n",
    "*   Social determinants of health\n",
    "\n",
    "*   An increased focus on health outcomes (Health Canada)\n",
    "\n",
    "## Kindig, 2003\n"
   ]
  },
  {
   "cell_type": "code",
   "execution_count": null,
   "metadata": {},
   "outputs": [],
   "source": []
  }
 ],
 "metadata": {
  "celltoolbar": "Slideshow",
  "kernelspec": {
   "display_name": "Python 3",
   "language": "python",
   "name": "python3"
  },
  "language_info": {
   "codemirror_mode": {
    "name": "ipython",
    "version": 3
   },
   "file_extension": ".py",
   "mimetype": "text/x-python",
   "name": "python",
   "nbconvert_exporter": "python",
   "pygments_lexer": "ipython3",
   "version": "3.6.8"
  }
 },
 "nbformat": 4,
 "nbformat_minor": 2
}
